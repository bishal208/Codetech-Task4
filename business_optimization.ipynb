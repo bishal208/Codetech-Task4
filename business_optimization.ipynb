# business_optimization.ipynb

# Import PuLP library
from pulp import LpMaximize, LpProblem, LpVariable, value

# 1. Define the problem
prob = LpProblem("Product Mix Optimization", LpMaximize)

# 2. Define decision variables (number of units produced for each product)
A = LpVariable('Product_A', lowBound=0, cat='Continuous')
B = LpVariable('Product_B', lowBound=0, cat='Continuous')

# 3. Define objective function (maximize profit)
prob += 40 * A + 30 * B, "Total Profit"

# 4. Define constraints
prob += 2 * A + 1 * B <= 100, "Labor Hours Constraint"
prob += 1 * A + 3 * B <= 90, "Raw Material Constraint"

# 5. Solve the problem
prob.solve()

# 6. Results
print("Status:", prob.status)
print(f"Optimal units of Product A to produce: {value(A)}")
print(f"Optimal units of Product B to produce: {value(B)}")
print(f"Maximum Profit: ${value(prob.objective)}")
